{
 "cells": [
  {
   "cell_type": "markdown",
   "metadata": {},
   "source": [
    "# Lista 9 - KNN e Medidas de Similaridade"
   ]
  },
  {
   "cell_type": "code",
   "execution_count": 1,
   "metadata": {},
   "outputs": [],
   "source": [
    "import pandas as pd\n",
    "import numpy as np\n",
    "\n",
    "#implementacão própria\n",
    "from implementacoes import knn_model\n",
    "from implementacoes import euclidean_distance\n",
    "\n",
    "#scikit\n",
    "from sklearn.neighbors import KNeighborsClassifier\n",
    "from sklearn.model_selection import train_test_split\n",
    "from sklearn.preprocessing import StandardScaler\n",
    "\n",
    "from sklearn.metrics import accuracy_score"
   ]
  },
  {
   "cell_type": "code",
   "execution_count": 2,
   "metadata": {},
   "outputs": [],
   "source": [
    "df = pd.read_csv('iris.data',header=None)"
   ]
  },
  {
   "cell_type": "code",
   "execution_count": 3,
   "metadata": {},
   "outputs": [
    {
     "data": {
      "text/html": [
       "<div>\n",
       "<style scoped>\n",
       "    .dataframe tbody tr th:only-of-type {\n",
       "        vertical-align: middle;\n",
       "    }\n",
       "\n",
       "    .dataframe tbody tr th {\n",
       "        vertical-align: top;\n",
       "    }\n",
       "\n",
       "    .dataframe thead th {\n",
       "        text-align: right;\n",
       "    }\n",
       "</style>\n",
       "<table border=\"1\" class=\"dataframe\">\n",
       "  <thead>\n",
       "    <tr style=\"text-align: right;\">\n",
       "      <th></th>\n",
       "      <th>0</th>\n",
       "      <th>1</th>\n",
       "      <th>2</th>\n",
       "      <th>3</th>\n",
       "      <th>4</th>\n",
       "    </tr>\n",
       "  </thead>\n",
       "  <tbody>\n",
       "    <tr>\n",
       "      <th>0</th>\n",
       "      <td>5.1</td>\n",
       "      <td>3.5</td>\n",
       "      <td>1.4</td>\n",
       "      <td>0.2</td>\n",
       "      <td>Iris-setosa</td>\n",
       "    </tr>\n",
       "    <tr>\n",
       "      <th>1</th>\n",
       "      <td>4.9</td>\n",
       "      <td>3.0</td>\n",
       "      <td>1.4</td>\n",
       "      <td>0.2</td>\n",
       "      <td>Iris-setosa</td>\n",
       "    </tr>\n",
       "    <tr>\n",
       "      <th>2</th>\n",
       "      <td>4.7</td>\n",
       "      <td>3.2</td>\n",
       "      <td>1.3</td>\n",
       "      <td>0.2</td>\n",
       "      <td>Iris-setosa</td>\n",
       "    </tr>\n",
       "    <tr>\n",
       "      <th>3</th>\n",
       "      <td>4.6</td>\n",
       "      <td>3.1</td>\n",
       "      <td>1.5</td>\n",
       "      <td>0.2</td>\n",
       "      <td>Iris-setosa</td>\n",
       "    </tr>\n",
       "    <tr>\n",
       "      <th>4</th>\n",
       "      <td>5.0</td>\n",
       "      <td>3.6</td>\n",
       "      <td>1.4</td>\n",
       "      <td>0.2</td>\n",
       "      <td>Iris-setosa</td>\n",
       "    </tr>\n",
       "  </tbody>\n",
       "</table>\n",
       "</div>"
      ],
      "text/plain": [
       "     0    1    2    3            4\n",
       "0  5.1  3.5  1.4  0.2  Iris-setosa\n",
       "1  4.9  3.0  1.4  0.2  Iris-setosa\n",
       "2  4.7  3.2  1.3  0.2  Iris-setosa\n",
       "3  4.6  3.1  1.5  0.2  Iris-setosa\n",
       "4  5.0  3.6  1.4  0.2  Iris-setosa"
      ]
     },
     "execution_count": 3,
     "metadata": {},
     "output_type": "execute_result"
    }
   ],
   "source": [
    "df.head()"
   ]
  },
  {
   "cell_type": "markdown",
   "metadata": {},
   "source": [
    "# transformando label"
   ]
  },
  {
   "cell_type": "code",
   "execution_count": 4,
   "metadata": {},
   "outputs": [
    {
     "data": {
      "text/plain": [
       "array(['Iris-setosa', 'Iris-versicolor', 'Iris-virginica'], dtype=object)"
      ]
     },
     "execution_count": 4,
     "metadata": {},
     "output_type": "execute_result"
    }
   ],
   "source": [
    "df.iloc[:,-1].unique()"
   ]
  },
  {
   "cell_type": "code",
   "execution_count": 5,
   "metadata": {},
   "outputs": [],
   "source": [
    "label_map = {'Iris-setosa' : 0, 'Iris-versicolor' : 1, 'Iris-virginica' : 2}"
   ]
  },
  {
   "cell_type": "code",
   "execution_count": 6,
   "metadata": {},
   "outputs": [],
   "source": [
    "df.iloc[:,-1] = df.iloc[:,-1].map(label_map);"
   ]
  },
  {
   "cell_type": "markdown",
   "metadata": {},
   "source": [
    "# Separando em treino e teste"
   ]
  },
  {
   "cell_type": "code",
   "execution_count": 7,
   "metadata": {},
   "outputs": [],
   "source": [
    "X = df.iloc[:, :-1].values\n",
    "y = df.iloc[:, -1].values"
   ]
  },
  {
   "cell_type": "code",
   "execution_count": 8,
   "metadata": {},
   "outputs": [],
   "source": [
    "x_train, x_test, y_train, y_test = train_test_split(X, y, random_state=42, test_size = .9, stratify=y)"
   ]
  },
  {
   "cell_type": "code",
   "execution_count": 9,
   "metadata": {},
   "outputs": [
    {
     "data": {
      "text/plain": [
       "((15, 4), (135, 4), (15,), (135,))"
      ]
     },
     "execution_count": 9,
     "metadata": {},
     "output_type": "execute_result"
    }
   ],
   "source": [
    "x_train.shape, x_test.shape, y_train.shape, y_test.shape"
   ]
  },
  {
   "cell_type": "markdown",
   "metadata": {},
   "source": [
    "# Standardizando features"
   ]
  },
  {
   "cell_type": "code",
   "execution_count": 10,
   "metadata": {},
   "outputs": [],
   "source": [
    "scaler = StandardScaler()\n",
    "\n",
    "x_train_std = scaler.fit_transform(x_train)\n",
    "x_test_std = scaler.transform(x_test)"
   ]
  },
  {
   "cell_type": "markdown",
   "metadata": {},
   "source": [
    "# Fazendo predições"
   ]
  },
  {
   "cell_type": "code",
   "execution_count": 11,
   "metadata": {},
   "outputs": [],
   "source": [
    "k_values = [1, 3, 5]\n",
    "\n",
    "my_pred = {}\n",
    "skc_pred = {}\n",
    "\n",
    "for k in k_values:\n",
    "    #KNN Scikit\n",
    "    skc_model = KNeighborsClassifier(n_neighbors= k)\n",
    "    skc_model.fit(x_train_std, y_train)\n",
    "    \n",
    "    skc_pred[k] = skc_model.predict(x_test_std)\n",
    "    \n",
    "    #My model\n",
    "    my_model = knn_model.KNNClassifier(k = k)\n",
    "    my_model.fit(x_train_std, y_train)\n",
    "    \n",
    "    my_pred[k] = my_model.predict(x_test_std)"
   ]
  },
  {
   "cell_type": "markdown",
   "metadata": {},
   "source": [
    "# Comparando resultados"
   ]
  },
  {
   "cell_type": "code",
   "execution_count": 12,
   "metadata": {},
   "outputs": [
    {
     "data": {
      "text/plain": [
       "{1: array([0, 0, 0, 0, 1, 0, 1, 2, 0, 2, 2, 0, 0, 1, 0, 0, 0, 1, 0, 0, 2, 2,\n",
       "        1, 2, 1, 2, 1, 2, 0, 2, 1, 0, 2, 1, 1, 2, 1, 1, 0, 2, 0, 0, 0, 2,\n",
       "        1, 1, 1, 0, 2, 0, 0, 0, 2, 0, 2, 1, 2, 1, 0, 1, 0, 1, 1, 0, 2, 1,\n",
       "        0, 0, 2, 0, 0, 2, 1, 1, 2, 2, 2, 2, 1, 2, 0, 2, 2, 1, 1, 2, 1, 1,\n",
       "        2, 0, 0, 1, 2, 1, 2, 1, 1, 1, 0, 1, 1, 0, 2, 1, 2, 0, 2, 0, 2, 1,\n",
       "        1, 2, 0, 2, 1, 2, 2, 0, 0, 2, 2, 2, 1, 2, 2, 2, 1, 1, 0, 1, 0, 2,\n",
       "        2, 0, 2]),\n",
       " 3: array([0, 0, 0, 0, 1, 0, 1, 2, 0, 2, 1, 0, 0, 1, 0, 0, 0, 1, 0, 0, 2, 1,\n",
       "        1, 1, 1, 2, 1, 2, 0, 2, 1, 0, 2, 1, 1, 2, 1, 1, 0, 2, 0, 0, 0, 1,\n",
       "        1, 1, 2, 0, 2, 0, 0, 0, 2, 0, 2, 1, 2, 1, 0, 1, 0, 2, 1, 0, 2, 2,\n",
       "        0, 0, 2, 0, 0, 2, 1, 1, 2, 2, 2, 2, 1, 2, 0, 1, 1, 2, 1, 2, 1, 2,\n",
       "        2, 0, 0, 0, 2, 1, 2, 1, 1, 1, 0, 1, 2, 0, 2, 1, 2, 0, 2, 0, 2, 1,\n",
       "        2, 1, 0, 1, 1, 2, 2, 0, 0, 2, 1, 2, 1, 2, 2, 2, 1, 1, 0, 1, 0, 2,\n",
       "        2, 0, 2]),\n",
       " 5: array([0, 0, 0, 0, 1, 0, 1, 2, 0, 2, 1, 0, 0, 1, 0, 0, 0, 1, 0, 0, 2, 1,\n",
       "        1, 1, 1, 2, 1, 2, 0, 2, 1, 0, 2, 1, 1, 2, 1, 1, 0, 2, 0, 0, 0, 1,\n",
       "        1, 1, 2, 0, 2, 0, 0, 0, 2, 0, 2, 1, 2, 1, 0, 1, 0, 1, 1, 0, 2, 2,\n",
       "        0, 0, 2, 0, 0, 2, 1, 1, 2, 2, 1, 1, 1, 2, 0, 1, 1, 1, 1, 2, 1, 2,\n",
       "        1, 0, 0, 0, 2, 1, 1, 1, 1, 1, 0, 1, 1, 0, 2, 1, 2, 0, 2, 0, 1, 1,\n",
       "        1, 1, 0, 2, 1, 2, 1, 0, 0, 2, 1, 2, 1, 2, 2, 2, 1, 1, 0, 1, 0, 2,\n",
       "        2, 0, 2])}"
      ]
     },
     "execution_count": 12,
     "metadata": {},
     "output_type": "execute_result"
    }
   ],
   "source": [
    "skc_pred"
   ]
  },
  {
   "cell_type": "code",
   "execution_count": 13,
   "metadata": {},
   "outputs": [
    {
     "data": {
      "text/plain": [
       "{1: array([0, 0, 0, 0, 1, 0, 1, 2, 0, 2, 2, 0, 0, 1, 0, 0, 0, 1, 0, 0, 2, 2,\n",
       "        1, 2, 1, 2, 1, 2, 0, 2, 1, 0, 2, 1, 1, 2, 1, 1, 0, 2, 0, 0, 0, 2,\n",
       "        1, 1, 1, 0, 2, 0, 0, 0, 2, 0, 2, 1, 2, 1, 0, 1, 0, 1, 1, 0, 2, 1,\n",
       "        0, 0, 2, 0, 0, 2, 1, 1, 2, 2, 2, 2, 1, 2, 0, 2, 2, 1, 1, 2, 1, 1,\n",
       "        2, 0, 0, 1, 2, 1, 2, 1, 1, 1, 0, 1, 1, 0, 2, 1, 2, 0, 2, 0, 2, 1,\n",
       "        1, 2, 0, 2, 1, 2, 2, 0, 0, 2, 2, 2, 1, 2, 2, 2, 1, 1, 0, 1, 0, 2,\n",
       "        2, 0, 2]),\n",
       " 3: array([0, 0, 0, 0, 1, 0, 1, 2, 0, 2, 1, 0, 0, 1, 0, 0, 0, 1, 0, 0, 2, 1,\n",
       "        1, 1, 1, 2, 1, 2, 0, 2, 1, 0, 2, 1, 1, 2, 1, 1, 0, 2, 0, 0, 0, 1,\n",
       "        1, 1, 2, 0, 2, 0, 0, 0, 2, 0, 2, 1, 2, 1, 0, 1, 0, 2, 1, 0, 2, 2,\n",
       "        0, 0, 2, 0, 0, 2, 1, 1, 2, 2, 2, 2, 1, 2, 0, 1, 1, 2, 1, 2, 1, 2,\n",
       "        2, 0, 0, 0, 2, 1, 2, 1, 1, 1, 0, 1, 2, 0, 2, 1, 2, 0, 2, 0, 2, 1,\n",
       "        2, 1, 0, 1, 1, 2, 2, 0, 0, 2, 1, 2, 1, 2, 2, 2, 1, 1, 0, 1, 0, 2,\n",
       "        2, 0, 2]),\n",
       " 5: array([0, 0, 0, 0, 1, 0, 1, 2, 0, 2, 1, 0, 0, 1, 0, 0, 0, 1, 0, 0, 2, 1,\n",
       "        1, 1, 1, 2, 1, 2, 0, 2, 1, 0, 2, 1, 1, 2, 1, 1, 0, 2, 0, 0, 0, 1,\n",
       "        1, 1, 2, 0, 2, 0, 0, 0, 2, 0, 2, 1, 2, 1, 0, 1, 0, 1, 1, 0, 2, 2,\n",
       "        0, 0, 2, 0, 0, 2, 1, 1, 2, 2, 1, 1, 1, 2, 0, 1, 1, 1, 1, 2, 1, 2,\n",
       "        1, 0, 0, 0, 2, 1, 1, 1, 1, 1, 0, 1, 1, 0, 2, 1, 2, 0, 2, 0, 1, 1,\n",
       "        1, 1, 0, 2, 1, 2, 1, 0, 0, 2, 1, 2, 1, 2, 2, 2, 1, 1, 0, 1, 0, 2,\n",
       "        2, 0, 2])}"
      ]
     },
     "execution_count": 13,
     "metadata": {},
     "output_type": "execute_result"
    }
   ],
   "source": [
    " my_pred"
   ]
  },
  {
   "cell_type": "code",
   "execution_count": 14,
   "metadata": {
    "scrolled": true
   },
   "outputs": [
    {
     "data": {
      "text/plain": [
       "[True, True, True]"
      ]
     },
     "execution_count": 14,
     "metadata": {},
     "output_type": "execute_result"
    }
   ],
   "source": [
    "[np.array_equal(skc_pred[k], my_pred[k]) for k in k_values]"
   ]
  },
  {
   "cell_type": "code",
   "execution_count": 15,
   "metadata": {},
   "outputs": [
    {
     "name": "stdout",
     "output_type": "stream",
     "text": [
      "k = 1 acc = 0.9555555555555556\n",
      "k = 3 acc = 0.8888888888888888\n",
      "k = 5 acc = 0.8814814814814815\n"
     ]
    }
   ],
   "source": [
    "for k in k_values:\n",
    "    print('k = {} acc = {}'.format(k, accuracy_score(y_test, my_pred[k])))"
   ]
  },
  {
   "cell_type": "code",
   "execution_count": null,
   "metadata": {},
   "outputs": [],
   "source": []
  }
 ],
 "metadata": {
  "kernelspec": {
   "display_name": "Python 3",
   "language": "python",
   "name": "python3"
  },
  "language_info": {
   "codemirror_mode": {
    "name": "ipython",
    "version": 3
   },
   "file_extension": ".py",
   "mimetype": "text/x-python",
   "name": "python",
   "nbconvert_exporter": "python",
   "pygments_lexer": "ipython3",
   "version": "3.7.3"
  }
 },
 "nbformat": 4,
 "nbformat_minor": 2
}
